{
  "nbformat": 4,
  "nbformat_minor": 0,
  "metadata": {
    "colab": {
      "name": "nn_EX1_q1.ipynb",
      "provenance": [],
      "collapsed_sections": [],
      "include_colab_link": true
    },
    "kernelspec": {
      "name": "python3",
      "display_name": "Python 3"
    },
    "accelerator": "GPU"
  },
  "cells": [
    {
      "cell_type": "markdown",
      "metadata": {
        "id": "view-in-github",
        "colab_type": "text"
      },
      "source": [
        "<a href=\"https://colab.research.google.com/github/zviyi/NN/blob/master/nn_EX1_q1.ipynb\" target=\"_parent\"><img src=\"https://colab.research.google.com/assets/colab-badge.svg\" alt=\"Open In Colab\"/></a>"
      ]
    },
    {
      "cell_type": "code",
      "metadata": {
        "id": "qmC2wJ0Wvcsr",
        "colab_type": "code",
        "outputId": "6e23a0bc-eab0-490d-b70d-af3cf65e65fe",
        "colab": {
          "base_uri": "https://localhost:8080/",
          "height": 34
        }
      },
      "source": [
        "try:\n",
        "  %tensorflow_version 2.x\n",
        "except Exception:\n",
        "  pass"
      ],
      "execution_count": 0,
      "outputs": [
        {
          "output_type": "stream",
          "text": [
            "TensorFlow 2.x selected.\n"
          ],
          "name": "stdout"
        }
      ]
    },
    {
      "cell_type": "code",
      "metadata": {
        "id": "rlL8hC6-fbFn",
        "colab_type": "code",
        "outputId": "5b82e142-041a-457f-9ce3-c9a5b5c4b54a",
        "colab": {
          "base_uri": "https://localhost:8080/",
          "height": 50
        }
      },
      "source": [
        "from __future__ import absolute_import, division, print_function, unicode_literals\n",
        "\n",
        "import tensorflow as tf\n",
        "from tensorflow.keras.layers import Dense, Flatten, Conv2D, MaxPooling2D\n",
        "from tensorflow.keras import Model\n",
        "\n",
        "mnist = tf.keras.datasets.mnist\n",
        "\n",
        "(x_train, y_train), (x_test, y_test) = mnist.load_data()\n",
        "x_train, x_test = x_train / 255.0, x_test / 255.0\n",
        "\n",
        "# Add a channels dimension\n",
        "\n",
        "x_train = x_train[..., tf.newaxis]\n",
        "x_test = x_test[..., tf.newaxis]\n",
        "\n",
        "train_ds = tf.data.Dataset.from_tensor_slices(\n",
        "    (x_train, y_train)).shuffle(10000).batch(32)\n",
        "\n",
        "\n",
        "test_ds = tf.data.Dataset.from_tensor_slices((x_test, y_test)).batch(32)\n",
        "\n",
        "class MyModel(Model):\n",
        "    def __init__(self):\n",
        "        super(MyModel, self).__init__()\n",
        "        self.conv1 = Conv2D(32, 5, activation='relu')\n",
        "        self.conv2 = Conv2D(64, 5, activation='relu')\n",
        "        self.max_pooling1 = MaxPooling2D()\n",
        "        self.max_pooling2 = MaxPooling2D()\n",
        "        self.flatten = Flatten()\n",
        "        self.d1 = Dense(1024, activation='relu')  # kernel_initializer='random_normal'\n",
        "        self.d2 = Dense(10, activation='softmax')\n",
        "    \n",
        "    def call(self, x):\n",
        "        x = self.conv1(x)\n",
        "        x = self.max_pooling1(x)\n",
        "        x = self.conv2(x)\n",
        "        x = self.max_pooling2(x)\n",
        "        x = self.flatten(x)\n",
        "        x = self.d1(x)\n",
        "        return self.d2(x)\n",
        "\n"
      ],
      "execution_count": 0,
      "outputs": [
        {
          "output_type": "stream",
          "text": [
            "Downloading data from https://storage.googleapis.com/tensorflow/tf-keras-datasets/mnist.npz\n",
            "11493376/11490434 [==============================] - 0s 0us/step\n"
          ],
          "name": "stdout"
        }
      ]
    },
    {
      "cell_type": "code",
      "metadata": {
        "id": "nfL5-zQbwWym",
        "colab_type": "code",
        "colab": {}
      },
      "source": [
        "# Create an instance of the model\n",
        "model = MyModel()\n",
        "\n",
        "\n",
        "loss_object = tf.keras.losses.SparseCategoricalCrossentropy()\n",
        "\n",
        "optimizer = tf.keras.optimizers.Adam()\n",
        "\n",
        "\n",
        "train_loss = tf.keras.metrics.Mean(name='train_loss')\n",
        "train_accuracy = tf.keras.metrics.SparseCategoricalAccuracy(name='train_accuracy')\n",
        "\n",
        "test_loss = tf.keras.metrics.Mean(name='test_loss')\n",
        "test_accuracy = tf.keras.metrics.SparseCategoricalAccuracy(name='test_accuracy')\n",
        "\n",
        "@tf.function\n",
        "def train_step(images, labels):\n",
        "    \n",
        "    with tf.GradientTape() as tape:\n",
        "        predictions = model(images)\n",
        "        loss = loss_object(labels, predictions)\n",
        "        gradients = tape.gradient(loss, model.trainable_variables)\n",
        "        optimizer.apply_gradients(zip(gradients, model.trainable_variables))\n",
        "    \n",
        "    train_loss(loss)\n",
        "    train_accuracy(labels, predictions)\n",
        "\n",
        "@tf.function\n",
        "def test_step(images, labels):\n",
        "    predictions = model(images)\n",
        "    t_loss = loss_object(labels, predictions)\n",
        "    \n",
        "    test_loss(t_loss)\n",
        "    test_accuracy(labels, predictions)\n",
        "\n"
      ],
      "execution_count": 0,
      "outputs": []
    },
    {
      "cell_type": "code",
      "metadata": {
        "id": "DPoKspe6v_LN",
        "colab_type": "code",
        "outputId": "54d0eb2a-65a2-422a-bb70-2eee1b55a5e6",
        "colab": {
          "base_uri": "https://localhost:8080/",
          "height": 128
        }
      },
      "source": [
        "EPOCHS = 5\n",
        "train_iter_num = 0\n",
        "TRAIN_ITERS_FOR_PRINT = 500\n",
        "\n",
        "train_losses = []\n",
        "train_accuracies = []\n",
        "test_losses = []\n",
        "test_accuracies = []\n",
        "num_of_iters = []\n",
        "\n",
        "inside_epoch_template = 'Inside Epoch {}, Total Iters: {}, Train Loss: {}, Train Accuracy: {}, Test Loss: {}, Test Accuracy: {}'\n",
        "end_epoch_template = 'Ending Epoch {}, Total Iters: {},  Train Loss: {}, Train Accuracy: {}, Test Loss: {}, Test Accuracy: {}'\n",
        "for epoch in range(EPOCHS):\n",
        "    for images, labels in train_ds:\n",
        "        train_step(images, labels)\n",
        "        train_iter_num += 1\n",
        "        if train_iter_num % TRAIN_ITERS_FOR_PRINT == 0:\n",
        "              \n",
        "              for (test_images, test_labels) in test_ds:\n",
        "                    test_step(test_images, test_labels)\n",
        "              \n",
        "              train_losses.append(train_loss.result())\n",
        "              train_accuracies.append(train_accuracy.result()*100)\n",
        "              test_losses.append(test_loss.result())\n",
        "              test_accuracies.append(test_accuracy.result()*100))\n",
        "              num_of_iters.append(train_iter_num)\n",
        "              \n",
        "              print(inside_epoch_template.format(epoch+1,train_iter_num,\n",
        "                              train_loss.result(),\n",
        "                              train_accuracy.result()*100,\n",
        "                              test_loss.result(),\n",
        "                              test_accuracy.result()*100))\n",
        "    \n",
        "    for (test_images, test_labels) in test_ds:\n",
        "        test_step(test_images, test_labels)\n",
        "           \n",
        "    print(end_epoch_template.format(epoch+1,\n",
        "                          train_iter_num,\n",
        "                              train_loss.result(),\n",
        "                              train_accuracy.result()*100,\n",
        "                              test_loss.result(),\n",
        "                              test_accuracy.result()*100))\n",
        "    test_accuracies.append()\n",
        "    print(\" -- \", flush=True)\n",
        "    \n",
        "    # Reset the metrics for the next epoch\n",
        "    train_loss.reset_states()\n",
        "    train_accuracy.reset_states()\n",
        "    test_loss.reset_states()\n",
        "    test_accuracy.reset_states()"
      ],
      "execution_count": 0,
      "outputs": [
        {
          "output_type": "error",
          "ename": "SyntaxError",
          "evalue": "ignored",
          "traceback": [
            "\u001b[0;36m  File \u001b[0;32m\"<ipython-input-12-99017f1a2eb3>\"\u001b[0;36m, line \u001b[0;32m25\u001b[0m\n\u001b[0;31m    test_accuracies.append(test_accuracy.result()*100))\u001b[0m\n\u001b[0m                                                      ^\u001b[0m\n\u001b[0;31mSyntaxError\u001b[0m\u001b[0;31m:\u001b[0m invalid syntax\n"
          ]
        }
      ]
    },
    {
      "cell_type": "code",
      "metadata": {
        "id": "vTshLpgcmd9F",
        "colab_type": "code",
        "colab": {}
      },
      "source": [
        "from matplotlib import pyplot as plt"
      ],
      "execution_count": 0,
      "outputs": []
    }
  ]
}
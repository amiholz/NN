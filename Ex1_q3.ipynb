{
  "nbformat": 4,
  "nbformat_minor": 0,
  "metadata": {
    "colab": {
      "name": "Ex1_q3.ipynb",
      "provenance": [],
      "collapsed_sections": [],
      "include_colab_link": true
    },
    "kernelspec": {
      "name": "python3",
      "display_name": "Python 3"
    },
    "accelerator": "GPU"
  },
  "cells": [
    {
      "cell_type": "markdown",
      "metadata": {
        "id": "view-in-github",
        "colab_type": "text"
      },
      "source": [
        "<a href=\"https://colab.research.google.com/github/amiholz/NN/blob/master/Ex1_q3.ipynb\" target=\"_parent\"><img src=\"https://colab.research.google.com/assets/colab-badge.svg\" alt=\"Open In Colab\"/></a>"
      ]
    },
    {
      "cell_type": "code",
      "metadata": {
        "id": "qmC2wJ0Wvcsr",
        "colab_type": "code",
        "outputId": "60709d3f-3bda-4b38-9d9a-98cf7d184b03",
        "colab": {
          "base_uri": "https://localhost:8080/",
          "height": 35
        }
      },
      "source": [
        "try:\n",
        "  %tensorflow_version 2.x\n",
        "except Exception:\n",
        "  pass"
      ],
      "execution_count": 1,
      "outputs": [
        {
          "output_type": "stream",
          "text": [
            "TensorFlow 2.x selected.\n"
          ],
          "name": "stdout"
        }
      ]
    },
    {
      "cell_type": "code",
      "metadata": {
        "id": "rlL8hC6-fbFn",
        "colab_type": "code",
        "colab": {}
      },
      "source": [
        "from __future__ import absolute_import, division, print_function, unicode_literals\n",
        "\n",
        "import tensorflow as tf\n",
        "from tensorflow.keras.layers import Dense, Flatten, Conv2D, MaxPooling2D\n",
        "from tensorflow.keras import Model\n",
        "\n",
        "mnist = tf.keras.datasets.mnist\n",
        "\n",
        "(x_train, y_train), (x_test, y_test) = mnist.load_data()\n",
        "x_train, x_test = x_train / 255.0, x_test / 255.0\n",
        "\n",
        "# Add a channels dimension\n",
        "\n",
        "x_train = x_train[..., tf.newaxis]\n",
        "x_test = x_test[..., tf.newaxis]\n",
        "\n",
        "train_ds = tf.data.Dataset.from_tensor_slices(\n",
        "    (x_train, y_train)).shuffle(10000).batch(32)\n",
        "\n",
        "\n",
        "test_ds = tf.data.Dataset.from_tensor_slices((x_test, y_test)).batch(32)\n",
        "\n",
        "class MyModel(Model):\n",
        "    def __init__(self):\n",
        "        super(MyModel, self).__init__()\n",
        "        self.conv = Conv2D(2, 5, activation='relu')\n",
        "        self.flatten = Flatten()\n",
        "        self.d = Dense(10, activation='softmax')\n",
        "    \n",
        "    def call(self, x):\n",
        "        x = self.conv(x)\n",
        "        x = self.flatten(x)\n",
        "        return self.d(x)\n",
        "\n"
      ],
      "execution_count": 0,
      "outputs": []
    },
    {
      "cell_type": "code",
      "metadata": {
        "id": "nfL5-zQbwWym",
        "colab_type": "code",
        "colab": {}
      },
      "source": [
        "# Create an instance of the model\n",
        "model = MyModel()\n",
        "\n",
        "\n",
        "loss_object = tf.keras.losses.SparseCategoricalCrossentropy()\n",
        "\n",
        "optimizer = tf.keras.optimizers.Adam()\n",
        "\n",
        "\n",
        "train_loss = tf.keras.metrics.Mean(name='train_loss')\n",
        "train_accuracy = tf.keras.metrics.SparseCategoricalAccuracy(name='train_accuracy')\n",
        "\n",
        "test_loss = tf.keras.metrics.Mean(name='test_loss')\n",
        "test_accuracy = tf.keras.metrics.SparseCategoricalAccuracy(name='test_accuracy')\n",
        "\n",
        "@tf.function\n",
        "def train_step(images, labels):\n",
        "    \n",
        "    with tf.GradientTape() as tape:\n",
        "        predictions = model(images)\n",
        "        loss = loss_object(labels, predictions)\n",
        "        gradients = tape.gradient(loss, model.trainable_variables)\n",
        "        optimizer.apply_gradients(zip(gradients, model.trainable_variables))\n",
        "    \n",
        "    train_loss(loss)\n",
        "    train_accuracy(labels, predictions)\n",
        "\n",
        "@tf.function\n",
        "def test_step(images, labels):\n",
        "    predictions = model(images)\n",
        "    t_loss = loss_object(labels, predictions)\n",
        "    \n",
        "    test_loss(t_loss)\n",
        "    test_accuracy(labels, predictions)\n",
        "\n"
      ],
      "execution_count": 0,
      "outputs": []
    },
    {
      "cell_type": "code",
      "metadata": {
        "id": "DPoKspe6v_LN",
        "colab_type": "code",
        "outputId": "7e7df33d-670a-498a-9fc1-a7db40f9589d",
        "colab": {
          "base_uri": "https://localhost:8080/",
          "height": 315
        }
      },
      "source": [
        "EPOCHS = 5\n",
        "train_iter_num = 0\n",
        "TRAIN_ITERS_FOR_PRINT = 500\n",
        "\n",
        "train_losses = []\n",
        "train_accuracies = []\n",
        "test_losses = []\n",
        "test_accuracies = []\n",
        "num_of_iters = []\n",
        "\n",
        "inside_epoch_template = 'Inside Epoch {}, Total Iters: {}, Train Loss: {}, Train Accuracy: {}, Test Loss: {}, Test Accuracy: {}'\n",
        "end_epoch_template = 'Ending Epoch {}, Total Iters: {},  Train Loss: {}, Train Accuracy: {}, Test Loss: {}, Test Accuracy: {}'\n",
        "for epoch in range(EPOCHS):\n",
        "    for images, labels in train_ds:\n",
        "        train_step(images, labels)\n",
        "        train_iter_num += 1\n",
        "        if train_iter_num % TRAIN_ITERS_FOR_PRINT == 0:\n",
        "              \n",
        "              for (test_images, test_labels) in test_ds:\n",
        "                    test_step(test_images, test_labels)\n",
        "              \n",
        "              # train_losses.append(train_loss.result())\n",
        "              # train_accuracies.append(train_accuracy.result()*100)\n",
        "              # test_losses.append(test_loss.result())\n",
        "              # test_accuracies.append(test_accuracy.result()*100))\n",
        "              # num_of_iters.append(train_iter_num)\n",
        "              \n",
        "              #print(inside_epoch_template.format(epoch+1,train_iter_num,\n",
        "                              # train_loss.result(),\n",
        "                              # train_accuracy.result()*100,\n",
        "                              # test_loss.result(),\n",
        "                              # test_accuracy.result()*100))\n",
        "    \n",
        "    for (test_images, test_labels) in test_ds:\n",
        "        test_step(test_images, test_labels)\n",
        "           \n",
        "    print(end_epoch_template.format(epoch+1,\n",
        "                          train_iter_num,\n",
        "                              train_loss.result(),\n",
        "                              train_accuracy.result()*100,\n",
        "                              test_loss.result(),\n",
        "                              test_accuracy.result()*100))\n",
        "    # test_accuracies.append()\n",
        "    print(\" -- \", flush=True)\n",
        "    \n",
        "    # Reset the metrics for the next epoch\n",
        "    train_loss.reset_states()\n",
        "    train_accuracy.reset_states()\n",
        "    test_loss.reset_states()\n",
        "    test_accuracy.reset_states()"
      ],
      "execution_count": 14,
      "outputs": [
        {
          "output_type": "stream",
          "text": [
            "WARNING:tensorflow:Layer my_model_3 is casting an input tensor from dtype float64 to the layer's dtype of float32, which is new behavior in TensorFlow 2.  The layer has dtype float32 because it's dtype defaults to floatx.\n",
            "\n",
            "If you intended to run this layer in float32, you can safely ignore this warning. If in doubt, this warning is likely only an issue if you are porting a TensorFlow 1.X model to TensorFlow 2.\n",
            "\n",
            "To change all layers to have dtype float64 by default, call `tf.keras.backend.set_floatx('float64')`. To change just this layer, pass dtype='float64' to the layer constructor. If you are the author of this layer, you can disable autocasting by passing autocast=False to the base Layer constructor.\n",
            "\n",
            "Ending Epoch 1, Total Iters: 1875,  Train Loss: 0.33325982093811035, Train Accuracy: 90.49333190917969, Test Loss: 0.23699292540550232, Test Accuracy: 93.25\n",
            " -- \n",
            "Ending Epoch 2, Total Iters: 3750,  Train Loss: 0.1757410615682602, Train Accuracy: 94.961669921875, Test Loss: 0.1622951626777649, Test Accuracy: 95.33000183105469\n",
            " -- \n",
            "Ending Epoch 3, Total Iters: 5625,  Train Loss: 0.14308826625347137, Train Accuracy: 95.96833801269531, Test Loss: 0.1331891119480133, Test Accuracy: 96.10400390625\n",
            " -- \n",
            "Ending Epoch 4, Total Iters: 7500,  Train Loss: 0.12508727610111237, Train Accuracy: 96.375, Test Loss: 0.11583585292100906, Test Accuracy: 96.5040054321289\n",
            " -- \n",
            "Ending Epoch 5, Total Iters: 9375,  Train Loss: 0.11235422641038895, Train Accuracy: 96.74666595458984, Test Loss: 0.11100007593631744, Test Accuracy: 96.7125015258789\n",
            " -- \n"
          ],
          "name": "stdout"
        }
      ]
    }
  ]
}